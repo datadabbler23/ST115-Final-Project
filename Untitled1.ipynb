{
 "cells": [
  {
   "cell_type": "code",
   "execution_count": 3,
   "id": "f8b13162",
   "metadata": {},
   "outputs": [],
   "source": [
    "from bs4 import BeautifulSoup\n",
    "import requests\n",
    "import pandas as pd"
   ]
  },
  {
   "cell_type": "code",
   "execution_count": 10,
   "id": "4538c0a8",
   "metadata": {},
   "outputs": [
    {
     "name": "stdout",
     "output_type": "stream",
     "text": [
      "0 room types found\n",
      "0 bathrooms found\n"
     ]
    }
   ],
   "source": [
    "accommodation_info = []\n",
    "url = 'http://www.lse.ac.uk/student-life/accommodation/halls/rosebery-hall/home.aspx'\n",
    "response = requests.get(url)\n",
    "response.raise_for_status()  \n",
    "soup = BeautifulSoup(response.text, 'html.parser')\n",
    "room_type = soup.find_all('h2', class_='roomlist_title')\n",
    "bathroom = soup.find_all('p', class_=\"roomlist_position\")\n",
    "print(len(room_type), \"room types found\")  # Debugging output\n",
    "print(len(bathroom), \"bathrooms found\")  # Debugging output\n",
    "for room in room_type:\n",
    "    print(room.text)  \n"
   ]
  },
  {
   "cell_type": "code",
   "execution_count": null,
   "id": "b66e7701",
   "metadata": {},
   "outputs": [],
   "source": []
  }
 ],
 "metadata": {
  "kernelspec": {
   "display_name": "Python 3 (ipykernel)",
   "language": "python",
   "name": "python3"
  },
  "language_info": {
   "codemirror_mode": {
    "name": "ipython",
    "version": 3
   },
   "file_extension": ".py",
   "mimetype": "text/x-python",
   "name": "python",
   "nbconvert_exporter": "python",
   "pygments_lexer": "ipython3",
   "version": "3.11.4"
  }
 },
 "nbformat": 4,
 "nbformat_minor": 5
}
