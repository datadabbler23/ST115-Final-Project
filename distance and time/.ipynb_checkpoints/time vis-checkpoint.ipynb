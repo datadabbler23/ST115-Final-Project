{
 "cells": [
  {
   "cell_type": "code",
   "execution_count": 1,
   "id": "3ac79257",
   "metadata": {},
   "outputs": [
    {
     "data": {
      "text/html": [
       "<div>\n",
       "<style scoped>\n",
       "    .dataframe tbody tr th:only-of-type {\n",
       "        vertical-align: middle;\n",
       "    }\n",
       "\n",
       "    .dataframe tbody tr th {\n",
       "        vertical-align: top;\n",
       "    }\n",
       "\n",
       "    .dataframe thead th {\n",
       "        text-align: right;\n",
       "    }\n",
       "</style>\n",
       "<table border=\"1\" class=\"dataframe\">\n",
       "  <thead>\n",
       "    <tr style=\"text-align: right;\">\n",
       "      <th></th>\n",
       "      <th>Name</th>\n",
       "      <th>Address</th>\n",
       "      <th>Distance to Campus(km)</th>\n",
       "      <th>Contract Length(week)</th>\n",
       "      <th>Price Range(£/week)</th>\n",
       "      <th>On Foot(min)</th>\n",
       "      <th>By Bike(min)</th>\n",
       "      <th>By Public Transport(min)</th>\n",
       "      <th>Station 1</th>\n",
       "      <th>Station 2</th>\n",
       "      <th>Station 3</th>\n",
       "      <th>Station 4</th>\n",
       "    </tr>\n",
       "  </thead>\n",
       "  <tbody>\n",
       "    <tr>\n",
       "      <th>0</th>\n",
       "      <td>College Hall</td>\n",
       "      <td>College Hall, University of London, Malet Stre...</td>\n",
       "      <td>1.2</td>\n",
       "      <td>40</td>\n",
       "      <td>289-392</td>\n",
       "      <td>22</td>\n",
       "      <td>8</td>\n",
       "      <td>16</td>\n",
       "      <td>Goodge Street</td>\n",
       "      <td>Euston Station</td>\n",
       "      <td>Russell Square</td>\n",
       "      <td>King’s Cross</td>\n",
       "    </tr>\n",
       "    <tr>\n",
       "      <th>1</th>\n",
       "      <td>International Hall</td>\n",
       "      <td>International Hall, University of London, Lans...</td>\n",
       "      <td>1.0</td>\n",
       "      <td>40</td>\n",
       "      <td>266-321</td>\n",
       "      <td>19</td>\n",
       "      <td>8</td>\n",
       "      <td>13</td>\n",
       "      <td>Russell Square</td>\n",
       "      <td>Holborn</td>\n",
       "      <td>Euston</td>\n",
       "      <td>King's Cross</td>\n",
       "    </tr>\n",
       "    <tr>\n",
       "      <th>2</th>\n",
       "      <td>Butler's Wharf Residence</td>\n",
       "      <td>Butler's Wharf Residence, 11 Gainsford Street,...</td>\n",
       "      <td>3.2</td>\n",
       "      <td>50</td>\n",
       "      <td>127-278</td>\n",
       "      <td>51</td>\n",
       "      <td>22</td>\n",
       "      <td>34</td>\n",
       "      <td>London Bridge</td>\n",
       "      <td>Tower Hill</td>\n",
       "      <td>Bermondsey</td>\n",
       "      <td>NaN</td>\n",
       "    </tr>\n",
       "    <tr>\n",
       "      <th>3</th>\n",
       "      <td>Bankside House</td>\n",
       "      <td>Bankside House, 24 Sumner Street, London, SE1 9JA</td>\n",
       "      <td>1.5</td>\n",
       "      <td>39</td>\n",
       "      <td>167-297</td>\n",
       "      <td>27</td>\n",
       "      <td>13</td>\n",
       "      <td>24</td>\n",
       "      <td>London Bridge</td>\n",
       "      <td>Southwark</td>\n",
       "      <td>NaN</td>\n",
       "      <td>NaN</td>\n",
       "    </tr>\n",
       "    <tr>\n",
       "      <th>4</th>\n",
       "      <td>Carr-Saunders Hall</td>\n",
       "      <td>Carr-Saunders Hall, 18-24 Fitzroy Street, Lond...</td>\n",
       "      <td>1.6</td>\n",
       "      <td>31</td>\n",
       "      <td>173-259</td>\n",
       "      <td>28</td>\n",
       "      <td>11</td>\n",
       "      <td>23</td>\n",
       "      <td>Warren Street</td>\n",
       "      <td>Euston</td>\n",
       "      <td>NaN</td>\n",
       "      <td>NaN</td>\n",
       "    </tr>\n",
       "    <tr>\n",
       "      <th>5</th>\n",
       "      <td>Connaught Hall</td>\n",
       "      <td>Connaught Hall, University of London, 36-45 Ta...</td>\n",
       "      <td>1.3</td>\n",
       "      <td>40</td>\n",
       "      <td>273-273</td>\n",
       "      <td>21</td>\n",
       "      <td>8</td>\n",
       "      <td>14</td>\n",
       "      <td>Euston Station</td>\n",
       "      <td>Euston Square</td>\n",
       "      <td>King's Cross</td>\n",
       "      <td>Russell Square</td>\n",
       "    </tr>\n",
       "    <tr>\n",
       "      <th>6</th>\n",
       "      <td>High Holborn Residence</td>\n",
       "      <td>High Holborn Residence, 178 High Holborn, Lond...</td>\n",
       "      <td>0.5</td>\n",
       "      <td>39</td>\n",
       "      <td>184-333</td>\n",
       "      <td>11</td>\n",
       "      <td>4</td>\n",
       "      <td>10</td>\n",
       "      <td>Holborn</td>\n",
       "      <td>Covent Garden</td>\n",
       "      <td>NaN</td>\n",
       "      <td>NaN</td>\n",
       "    </tr>\n",
       "    <tr>\n",
       "      <th>7</th>\n",
       "      <td>urbanest Westminster Bridge</td>\n",
       "      <td>urbanest Westminster Bridge, 203 Westminster B...</td>\n",
       "      <td>1.5</td>\n",
       "      <td>39 or 50</td>\n",
       "      <td>227-458</td>\n",
       "      <td>25</td>\n",
       "      <td>9</td>\n",
       "      <td>11</td>\n",
       "      <td>Westminster</td>\n",
       "      <td>Waterloo</td>\n",
       "      <td>Lambeth North</td>\n",
       "      <td>NaN</td>\n",
       "    </tr>\n",
       "    <tr>\n",
       "      <th>8</th>\n",
       "      <td>Lilian Knowles House</td>\n",
       "      <td>Lilian Knowles House, 50 Crispin Street, Londo...</td>\n",
       "      <td>2.9</td>\n",
       "      <td>39 or 50</td>\n",
       "      <td>198-336</td>\n",
       "      <td>45</td>\n",
       "      <td>19</td>\n",
       "      <td>25</td>\n",
       "      <td>Liverpool Street</td>\n",
       "      <td>Shoreditch High Street</td>\n",
       "      <td>NaN</td>\n",
       "      <td>NaN</td>\n",
       "    </tr>\n",
       "    <tr>\n",
       "      <th>9</th>\n",
       "      <td>Passfield Hall</td>\n",
       "      <td>Passfield Hall, 1-7 Endsleigh Place, London, W...</td>\n",
       "      <td>1.5</td>\n",
       "      <td>31</td>\n",
       "      <td>129-287</td>\n",
       "      <td>23</td>\n",
       "      <td>10</td>\n",
       "      <td>15</td>\n",
       "      <td>Euston Square</td>\n",
       "      <td>Euston</td>\n",
       "      <td>NaN</td>\n",
       "      <td>NaN</td>\n",
       "    </tr>\n",
       "    <tr>\n",
       "      <th>10</th>\n",
       "      <td>Nutford House</td>\n",
       "      <td>Nutford House, University of London, Brown Str...</td>\n",
       "      <td>3.1</td>\n",
       "      <td>40</td>\n",
       "      <td>183-263</td>\n",
       "      <td>50</td>\n",
       "      <td>21</td>\n",
       "      <td>27</td>\n",
       "      <td>Edgware Station</td>\n",
       "      <td>Marble Arch</td>\n",
       "      <td>NaN</td>\n",
       "      <td>NaN</td>\n",
       "    </tr>\n",
       "    <tr>\n",
       "      <th>11</th>\n",
       "      <td>Rosebery Hall</td>\n",
       "      <td>Rosebery Hall, 90 Rosebery Avenue, London, EC1...</td>\n",
       "      <td>1.6</td>\n",
       "      <td>39</td>\n",
       "      <td>168-263</td>\n",
       "      <td>27</td>\n",
       "      <td>12</td>\n",
       "      <td>19</td>\n",
       "      <td>Angel</td>\n",
       "      <td>King’s Cross/St Pancras</td>\n",
       "      <td>Farringdon</td>\n",
       "      <td>NaN</td>\n",
       "    </tr>\n",
       "    <tr>\n",
       "      <th>12</th>\n",
       "      <td>The Garden Halls</td>\n",
       "      <td>The Garden Halls, University of London, 1 Cart...</td>\n",
       "      <td>1.6</td>\n",
       "      <td>40</td>\n",
       "      <td>269-374</td>\n",
       "      <td>25</td>\n",
       "      <td>9</td>\n",
       "      <td>16</td>\n",
       "      <td>Euston Station</td>\n",
       "      <td>Euston Square</td>\n",
       "      <td>Russell Square</td>\n",
       "      <td>NaN</td>\n",
       "    </tr>\n",
       "    <tr>\n",
       "      <th>13</th>\n",
       "      <td>Sidney Webb House</td>\n",
       "      <td>Sidney Webb House 159 Great Dover Street, Lond...</td>\n",
       "      <td>2.8</td>\n",
       "      <td>40</td>\n",
       "      <td>221-336</td>\n",
       "      <td>45</td>\n",
       "      <td>19</td>\n",
       "      <td>24</td>\n",
       "      <td>Borough</td>\n",
       "      <td>NaN</td>\n",
       "      <td>NaN</td>\n",
       "      <td>NaN</td>\n",
       "    </tr>\n",
       "  </tbody>\n",
       "</table>\n",
       "</div>"
      ],
      "text/plain": [
       "                           Name  \\\n",
       "0                  College Hall   \n",
       "1            International Hall   \n",
       "2      Butler's Wharf Residence   \n",
       "3                Bankside House   \n",
       "4            Carr-Saunders Hall   \n",
       "5                Connaught Hall   \n",
       "6        High Holborn Residence   \n",
       "7   urbanest Westminster Bridge   \n",
       "8          Lilian Knowles House   \n",
       "9                Passfield Hall   \n",
       "10                Nutford House   \n",
       "11                Rosebery Hall   \n",
       "12             The Garden Halls   \n",
       "13            Sidney Webb House   \n",
       "\n",
       "                                              Address  Distance to Campus(km)  \\\n",
       "0   College Hall, University of London, Malet Stre...                     1.2   \n",
       "1   International Hall, University of London, Lans...                     1.0   \n",
       "2   Butler's Wharf Residence, 11 Gainsford Street,...                     3.2   \n",
       "3   Bankside House, 24 Sumner Street, London, SE1 9JA                     1.5   \n",
       "4   Carr-Saunders Hall, 18-24 Fitzroy Street, Lond...                     1.6   \n",
       "5   Connaught Hall, University of London, 36-45 Ta...                     1.3   \n",
       "6   High Holborn Residence, 178 High Holborn, Lond...                     0.5   \n",
       "7   urbanest Westminster Bridge, 203 Westminster B...                     1.5   \n",
       "8   Lilian Knowles House, 50 Crispin Street, Londo...                     2.9   \n",
       "9   Passfield Hall, 1-7 Endsleigh Place, London, W...                     1.5   \n",
       "10  Nutford House, University of London, Brown Str...                     3.1   \n",
       "11  Rosebery Hall, 90 Rosebery Avenue, London, EC1...                     1.6   \n",
       "12  The Garden Halls, University of London, 1 Cart...                     1.6   \n",
       "13  Sidney Webb House 159 Great Dover Street, Lond...                     2.8   \n",
       "\n",
       "   Contract Length(week) Price Range(£/week)  On Foot(min)  By Bike(min)  \\\n",
       "0                     40             289-392            22             8   \n",
       "1                     40             266-321            19             8   \n",
       "2                     50             127-278            51            22   \n",
       "3                     39             167-297            27            13   \n",
       "4                     31             173-259            28            11   \n",
       "5                     40             273-273            21             8   \n",
       "6                     39             184-333            11             4   \n",
       "7               39 or 50             227-458            25             9   \n",
       "8               39 or 50             198-336            45            19   \n",
       "9                     31             129-287            23            10   \n",
       "10                    40             183-263            50            21   \n",
       "11                    39             168-263            27            12   \n",
       "12                    40             269-374            25             9   \n",
       "13                    40             221-336            45            19   \n",
       "\n",
       "    By Public Transport(min)         Station 1                Station 2  \\\n",
       "0                         16     Goodge Street           Euston Station   \n",
       "1                         13    Russell Square                  Holborn   \n",
       "2                         34     London Bridge               Tower Hill   \n",
       "3                         24     London Bridge                Southwark   \n",
       "4                         23     Warren Street                   Euston   \n",
       "5                         14    Euston Station            Euston Square   \n",
       "6                         10           Holborn            Covent Garden   \n",
       "7                         11       Westminster                 Waterloo   \n",
       "8                         25  Liverpool Street   Shoreditch High Street   \n",
       "9                         15     Euston Square                   Euston   \n",
       "10                        27   Edgware Station              Marble Arch   \n",
       "11                        19             Angel  King’s Cross/St Pancras   \n",
       "12                        16    Euston Station            Euston Square   \n",
       "13                        24           Borough                      NaN   \n",
       "\n",
       "         Station 3       Station 4  \n",
       "0   Russell Square    King’s Cross  \n",
       "1           Euston    King's Cross  \n",
       "2       Bermondsey             NaN  \n",
       "3              NaN             NaN  \n",
       "4              NaN             NaN  \n",
       "5     King's Cross  Russell Square  \n",
       "6              NaN             NaN  \n",
       "7    Lambeth North             NaN  \n",
       "8              NaN             NaN  \n",
       "9              NaN             NaN  \n",
       "10             NaN             NaN  \n",
       "11      Farringdon             NaN  \n",
       "12  Russell Square             NaN  \n",
       "13             NaN             NaN  "
      ]
     },
     "execution_count": 1,
     "metadata": {},
     "output_type": "execute_result"
    }
   ],
   "source": [
    "import pandas as pd\n",
    "df = pd.read_csv('distance_data.csv')\n",
    "df"
   ]
  },
  {
   "cell_type": "code",
   "execution_count": 5,
   "id": "611c01d1",
   "metadata": {},
   "outputs": [
    {
     "data": {
      "application/vnd.plotly.v1+json": {
       "config": {
        "plotlyServerURL": "https://plot.ly"
       },
       "data": [
        {
         "alignmentgroup": "True",
         "hovertemplate": "Mode of Transport=On Foot(min)<br>Halls=%{x}<br>Time in Minutes=%{y}<extra></extra>",
         "legendgroup": "On Foot(min)",
         "marker": {
          "color": "blue",
          "pattern": {
           "shape": ""
          }
         },
         "name": "On Foot(min)",
         "offsetgroup": "On Foot(min)",
         "orientation": "v",
         "showlegend": true,
         "textposition": "auto",
         "type": "bar",
         "x": [
          "College Hall",
          "International Hall",
          "Butler's Wharf Residence",
          "Bankside House",
          "Carr-Saunders Hall",
          "Connaught Hall",
          "High Holborn Residence",
          "urbanest Westminster Bridge",
          "Lilian Knowles House",
          "Passfield Hall",
          "Nutford House",
          "Rosebery Hall",
          "The Garden Halls",
          "Sidney Webb House"
         ],
         "xaxis": "x",
         "y": [
          22,
          19,
          51,
          27,
          28,
          21,
          11,
          25,
          45,
          23,
          50,
          27,
          25,
          45
         ],
         "yaxis": "y"
        },
        {
         "alignmentgroup": "True",
         "hovertemplate": "Mode of Transport=By Bike(min)<br>Halls=%{x}<br>Time in Minutes=%{y}<extra></extra>",
         "legendgroup": "By Bike(min)",
         "marker": {
          "color": "green",
          "pattern": {
           "shape": ""
          }
         },
         "name": "By Bike(min)",
         "offsetgroup": "By Bike(min)",
         "orientation": "v",
         "showlegend": true,
         "textposition": "auto",
         "type": "bar",
         "x": [
          "College Hall",
          "International Hall",
          "Butler's Wharf Residence",
          "Bankside House",
          "Carr-Saunders Hall",
          "Connaught Hall",
          "High Holborn Residence",
          "urbanest Westminster Bridge",
          "Lilian Knowles House",
          "Passfield Hall",
          "Nutford House",
          "Rosebery Hall",
          "The Garden Halls",
          "Sidney Webb House"
         ],
         "xaxis": "x",
         "y": [
          8,
          8,
          22,
          13,
          11,
          8,
          4,
          9,
          19,
          10,
          21,
          12,
          9,
          19
         ],
         "yaxis": "y"
        },
        {
         "alignmentgroup": "True",
         "hovertemplate": "Mode of Transport=By Public Transport(min)<br>Halls=%{x}<br>Time in Minutes=%{y}<extra></extra>",
         "legendgroup": "By Public Transport(min)",
         "marker": {
          "color": "red",
          "pattern": {
           "shape": ""
          }
         },
         "name": "By Public Transport(min)",
         "offsetgroup": "By Public Transport(min)",
         "orientation": "v",
         "showlegend": true,
         "textposition": "auto",
         "type": "bar",
         "x": [
          "College Hall",
          "International Hall",
          "Butler's Wharf Residence",
          "Bankside House",
          "Carr-Saunders Hall",
          "Connaught Hall",
          "High Holborn Residence",
          "urbanest Westminster Bridge",
          "Lilian Knowles House",
          "Passfield Hall",
          "Nutford House",
          "Rosebery Hall",
          "The Garden Halls",
          "Sidney Webb House"
         ],
         "xaxis": "x",
         "y": [
          16,
          13,
          34,
          24,
          23,
          14,
          10,
          11,
          25,
          15,
          27,
          19,
          16,
          24
         ],
         "yaxis": "y"
        }
       ],
       "layout": {
        "barmode": "group",
        "legend": {
         "title": {
          "text": "Modes of Transportation"
         },
         "tracegroupgap": 0
        },
        "template": {
         "data": {
          "bar": [
           {
            "error_x": {
             "color": "#2a3f5f"
            },
            "error_y": {
             "color": "#2a3f5f"
            },
            "marker": {
             "line": {
              "color": "#E5ECF6",
              "width": 0.5
             },
             "pattern": {
              "fillmode": "overlay",
              "size": 10,
              "solidity": 0.2
             }
            },
            "type": "bar"
           }
          ],
          "barpolar": [
           {
            "marker": {
             "line": {
              "color": "#E5ECF6",
              "width": 0.5
             },
             "pattern": {
              "fillmode": "overlay",
              "size": 10,
              "solidity": 0.2
             }
            },
            "type": "barpolar"
           }
          ],
          "carpet": [
           {
            "aaxis": {
             "endlinecolor": "#2a3f5f",
             "gridcolor": "white",
             "linecolor": "white",
             "minorgridcolor": "white",
             "startlinecolor": "#2a3f5f"
            },
            "baxis": {
             "endlinecolor": "#2a3f5f",
             "gridcolor": "white",
             "linecolor": "white",
             "minorgridcolor": "white",
             "startlinecolor": "#2a3f5f"
            },
            "type": "carpet"
           }
          ],
          "choropleth": [
           {
            "colorbar": {
             "outlinewidth": 0,
             "ticks": ""
            },
            "type": "choropleth"
           }
          ],
          "contour": [
           {
            "colorbar": {
             "outlinewidth": 0,
             "ticks": ""
            },
            "colorscale": [
             [
              0,
              "#0d0887"
             ],
             [
              0.1111111111111111,
              "#46039f"
             ],
             [
              0.2222222222222222,
              "#7201a8"
             ],
             [
              0.3333333333333333,
              "#9c179e"
             ],
             [
              0.4444444444444444,
              "#bd3786"
             ],
             [
              0.5555555555555556,
              "#d8576b"
             ],
             [
              0.6666666666666666,
              "#ed7953"
             ],
             [
              0.7777777777777778,
              "#fb9f3a"
             ],
             [
              0.8888888888888888,
              "#fdca26"
             ],
             [
              1,
              "#f0f921"
             ]
            ],
            "type": "contour"
           }
          ],
          "contourcarpet": [
           {
            "colorbar": {
             "outlinewidth": 0,
             "ticks": ""
            },
            "type": "contourcarpet"
           }
          ],
          "heatmap": [
           {
            "colorbar": {
             "outlinewidth": 0,
             "ticks": ""
            },
            "colorscale": [
             [
              0,
              "#0d0887"
             ],
             [
              0.1111111111111111,
              "#46039f"
             ],
             [
              0.2222222222222222,
              "#7201a8"
             ],
             [
              0.3333333333333333,
              "#9c179e"
             ],
             [
              0.4444444444444444,
              "#bd3786"
             ],
             [
              0.5555555555555556,
              "#d8576b"
             ],
             [
              0.6666666666666666,
              "#ed7953"
             ],
             [
              0.7777777777777778,
              "#fb9f3a"
             ],
             [
              0.8888888888888888,
              "#fdca26"
             ],
             [
              1,
              "#f0f921"
             ]
            ],
            "type": "heatmap"
           }
          ],
          "heatmapgl": [
           {
            "colorbar": {
             "outlinewidth": 0,
             "ticks": ""
            },
            "colorscale": [
             [
              0,
              "#0d0887"
             ],
             [
              0.1111111111111111,
              "#46039f"
             ],
             [
              0.2222222222222222,
              "#7201a8"
             ],
             [
              0.3333333333333333,
              "#9c179e"
             ],
             [
              0.4444444444444444,
              "#bd3786"
             ],
             [
              0.5555555555555556,
              "#d8576b"
             ],
             [
              0.6666666666666666,
              "#ed7953"
             ],
             [
              0.7777777777777778,
              "#fb9f3a"
             ],
             [
              0.8888888888888888,
              "#fdca26"
             ],
             [
              1,
              "#f0f921"
             ]
            ],
            "type": "heatmapgl"
           }
          ],
          "histogram": [
           {
            "marker": {
             "pattern": {
              "fillmode": "overlay",
              "size": 10,
              "solidity": 0.2
             }
            },
            "type": "histogram"
           }
          ],
          "histogram2d": [
           {
            "colorbar": {
             "outlinewidth": 0,
             "ticks": ""
            },
            "colorscale": [
             [
              0,
              "#0d0887"
             ],
             [
              0.1111111111111111,
              "#46039f"
             ],
             [
              0.2222222222222222,
              "#7201a8"
             ],
             [
              0.3333333333333333,
              "#9c179e"
             ],
             [
              0.4444444444444444,
              "#bd3786"
             ],
             [
              0.5555555555555556,
              "#d8576b"
             ],
             [
              0.6666666666666666,
              "#ed7953"
             ],
             [
              0.7777777777777778,
              "#fb9f3a"
             ],
             [
              0.8888888888888888,
              "#fdca26"
             ],
             [
              1,
              "#f0f921"
             ]
            ],
            "type": "histogram2d"
           }
          ],
          "histogram2dcontour": [
           {
            "colorbar": {
             "outlinewidth": 0,
             "ticks": ""
            },
            "colorscale": [
             [
              0,
              "#0d0887"
             ],
             [
              0.1111111111111111,
              "#46039f"
             ],
             [
              0.2222222222222222,
              "#7201a8"
             ],
             [
              0.3333333333333333,
              "#9c179e"
             ],
             [
              0.4444444444444444,
              "#bd3786"
             ],
             [
              0.5555555555555556,
              "#d8576b"
             ],
             [
              0.6666666666666666,
              "#ed7953"
             ],
             [
              0.7777777777777778,
              "#fb9f3a"
             ],
             [
              0.8888888888888888,
              "#fdca26"
             ],
             [
              1,
              "#f0f921"
             ]
            ],
            "type": "histogram2dcontour"
           }
          ],
          "mesh3d": [
           {
            "colorbar": {
             "outlinewidth": 0,
             "ticks": ""
            },
            "type": "mesh3d"
           }
          ],
          "parcoords": [
           {
            "line": {
             "colorbar": {
              "outlinewidth": 0,
              "ticks": ""
             }
            },
            "type": "parcoords"
           }
          ],
          "pie": [
           {
            "automargin": true,
            "type": "pie"
           }
          ],
          "scatter": [
           {
            "fillpattern": {
             "fillmode": "overlay",
             "size": 10,
             "solidity": 0.2
            },
            "type": "scatter"
           }
          ],
          "scatter3d": [
           {
            "line": {
             "colorbar": {
              "outlinewidth": 0,
              "ticks": ""
             }
            },
            "marker": {
             "colorbar": {
              "outlinewidth": 0,
              "ticks": ""
             }
            },
            "type": "scatter3d"
           }
          ],
          "scattercarpet": [
           {
            "marker": {
             "colorbar": {
              "outlinewidth": 0,
              "ticks": ""
             }
            },
            "type": "scattercarpet"
           }
          ],
          "scattergeo": [
           {
            "marker": {
             "colorbar": {
              "outlinewidth": 0,
              "ticks": ""
             }
            },
            "type": "scattergeo"
           }
          ],
          "scattergl": [
           {
            "marker": {
             "colorbar": {
              "outlinewidth": 0,
              "ticks": ""
             }
            },
            "type": "scattergl"
           }
          ],
          "scattermapbox": [
           {
            "marker": {
             "colorbar": {
              "outlinewidth": 0,
              "ticks": ""
             }
            },
            "type": "scattermapbox"
           }
          ],
          "scatterpolar": [
           {
            "marker": {
             "colorbar": {
              "outlinewidth": 0,
              "ticks": ""
             }
            },
            "type": "scatterpolar"
           }
          ],
          "scatterpolargl": [
           {
            "marker": {
             "colorbar": {
              "outlinewidth": 0,
              "ticks": ""
             }
            },
            "type": "scatterpolargl"
           }
          ],
          "scatterternary": [
           {
            "marker": {
             "colorbar": {
              "outlinewidth": 0,
              "ticks": ""
             }
            },
            "type": "scatterternary"
           }
          ],
          "surface": [
           {
            "colorbar": {
             "outlinewidth": 0,
             "ticks": ""
            },
            "colorscale": [
             [
              0,
              "#0d0887"
             ],
             [
              0.1111111111111111,
              "#46039f"
             ],
             [
              0.2222222222222222,
              "#7201a8"
             ],
             [
              0.3333333333333333,
              "#9c179e"
             ],
             [
              0.4444444444444444,
              "#bd3786"
             ],
             [
              0.5555555555555556,
              "#d8576b"
             ],
             [
              0.6666666666666666,
              "#ed7953"
             ],
             [
              0.7777777777777778,
              "#fb9f3a"
             ],
             [
              0.8888888888888888,
              "#fdca26"
             ],
             [
              1,
              "#f0f921"
             ]
            ],
            "type": "surface"
           }
          ],
          "table": [
           {
            "cells": {
             "fill": {
              "color": "#EBF0F8"
             },
             "line": {
              "color": "white"
             }
            },
            "header": {
             "fill": {
              "color": "#C8D4E3"
             },
             "line": {
              "color": "white"
             }
            },
            "type": "table"
           }
          ]
         },
         "layout": {
          "annotationdefaults": {
           "arrowcolor": "#2a3f5f",
           "arrowhead": 0,
           "arrowwidth": 1
          },
          "autotypenumbers": "strict",
          "coloraxis": {
           "colorbar": {
            "outlinewidth": 0,
            "ticks": ""
           }
          },
          "colorscale": {
           "diverging": [
            [
             0,
             "#8e0152"
            ],
            [
             0.1,
             "#c51b7d"
            ],
            [
             0.2,
             "#de77ae"
            ],
            [
             0.3,
             "#f1b6da"
            ],
            [
             0.4,
             "#fde0ef"
            ],
            [
             0.5,
             "#f7f7f7"
            ],
            [
             0.6,
             "#e6f5d0"
            ],
            [
             0.7,
             "#b8e186"
            ],
            [
             0.8,
             "#7fbc41"
            ],
            [
             0.9,
             "#4d9221"
            ],
            [
             1,
             "#276419"
            ]
           ],
           "sequential": [
            [
             0,
             "#0d0887"
            ],
            [
             0.1111111111111111,
             "#46039f"
            ],
            [
             0.2222222222222222,
             "#7201a8"
            ],
            [
             0.3333333333333333,
             "#9c179e"
            ],
            [
             0.4444444444444444,
             "#bd3786"
            ],
            [
             0.5555555555555556,
             "#d8576b"
            ],
            [
             0.6666666666666666,
             "#ed7953"
            ],
            [
             0.7777777777777778,
             "#fb9f3a"
            ],
            [
             0.8888888888888888,
             "#fdca26"
            ],
            [
             1,
             "#f0f921"
            ]
           ],
           "sequentialminus": [
            [
             0,
             "#0d0887"
            ],
            [
             0.1111111111111111,
             "#46039f"
            ],
            [
             0.2222222222222222,
             "#7201a8"
            ],
            [
             0.3333333333333333,
             "#9c179e"
            ],
            [
             0.4444444444444444,
             "#bd3786"
            ],
            [
             0.5555555555555556,
             "#d8576b"
            ],
            [
             0.6666666666666666,
             "#ed7953"
            ],
            [
             0.7777777777777778,
             "#fb9f3a"
            ],
            [
             0.8888888888888888,
             "#fdca26"
            ],
            [
             1,
             "#f0f921"
            ]
           ]
          },
          "colorway": [
           "#636efa",
           "#EF553B",
           "#00cc96",
           "#ab63fa",
           "#FFA15A",
           "#19d3f3",
           "#FF6692",
           "#B6E880",
           "#FF97FF",
           "#FECB52"
          ],
          "font": {
           "color": "#2a3f5f"
          },
          "geo": {
           "bgcolor": "white",
           "lakecolor": "white",
           "landcolor": "#E5ECF6",
           "showlakes": true,
           "showland": true,
           "subunitcolor": "white"
          },
          "hoverlabel": {
           "align": "left"
          },
          "hovermode": "closest",
          "mapbox": {
           "style": "light"
          },
          "paper_bgcolor": "white",
          "plot_bgcolor": "#E5ECF6",
          "polar": {
           "angularaxis": {
            "gridcolor": "white",
            "linecolor": "white",
            "ticks": ""
           },
           "bgcolor": "#E5ECF6",
           "radialaxis": {
            "gridcolor": "white",
            "linecolor": "white",
            "ticks": ""
           }
          },
          "scene": {
           "xaxis": {
            "backgroundcolor": "#E5ECF6",
            "gridcolor": "white",
            "gridwidth": 2,
            "linecolor": "white",
            "showbackground": true,
            "ticks": "",
            "zerolinecolor": "white"
           },
           "yaxis": {
            "backgroundcolor": "#E5ECF6",
            "gridcolor": "white",
            "gridwidth": 2,
            "linecolor": "white",
            "showbackground": true,
            "ticks": "",
            "zerolinecolor": "white"
           },
           "zaxis": {
            "backgroundcolor": "#E5ECF6",
            "gridcolor": "white",
            "gridwidth": 2,
            "linecolor": "white",
            "showbackground": true,
            "ticks": "",
            "zerolinecolor": "white"
           }
          },
          "shapedefaults": {
           "line": {
            "color": "#2a3f5f"
           }
          },
          "ternary": {
           "aaxis": {
            "gridcolor": "white",
            "linecolor": "white",
            "ticks": ""
           },
           "baxis": {
            "gridcolor": "white",
            "linecolor": "white",
            "ticks": ""
           },
           "bgcolor": "#E5ECF6",
           "caxis": {
            "gridcolor": "white",
            "linecolor": "white",
            "ticks": ""
           }
          },
          "title": {
           "x": 0.05
          },
          "xaxis": {
           "automargin": true,
           "gridcolor": "white",
           "linecolor": "white",
           "ticks": "",
           "title": {
            "standoff": 15
           },
           "zerolinecolor": "white",
           "zerolinewidth": 2
          },
          "yaxis": {
           "automargin": true,
           "gridcolor": "white",
           "linecolor": "white",
           "ticks": "",
           "title": {
            "standoff": 15
           },
           "zerolinecolor": "white",
           "zerolinewidth": 2
          }
         }
        },
        "title": {
         "text": "Travel time to Campus by Foot, Bike, and Public Transport"
        },
        "xaxis": {
         "anchor": "y",
         "domain": [
          0,
          1
         ],
         "tickangle": -45,
         "title": {
          "text": "Accommodation Name"
         }
        },
        "yaxis": {
         "anchor": "x",
         "domain": [
          0,
          1
         ],
         "title": {
          "text": "Time in Minutes"
         }
        }
       }
      },
      "text/html": [
       "<div>                            <div id=\"d3881ff0-f824-4197-9206-d3ffe30cbefb\" class=\"plotly-graph-div\" style=\"height:525px; width:100%;\"></div>            <script type=\"text/javascript\">                require([\"plotly\"], function(Plotly) {                    window.PLOTLYENV=window.PLOTLYENV || {};                                    if (document.getElementById(\"d3881ff0-f824-4197-9206-d3ffe30cbefb\")) {                    Plotly.newPlot(                        \"d3881ff0-f824-4197-9206-d3ffe30cbefb\",                        [{\"alignmentgroup\":\"True\",\"hovertemplate\":\"Mode of Transport=On Foot(min)<br>Halls=%{x}<br>Time in Minutes=%{y}<extra></extra>\",\"legendgroup\":\"On Foot(min)\",\"marker\":{\"color\":\"blue\",\"pattern\":{\"shape\":\"\"}},\"name\":\"On Foot(min)\",\"offsetgroup\":\"On Foot(min)\",\"orientation\":\"v\",\"showlegend\":true,\"textposition\":\"auto\",\"x\":[\"College Hall\",\"International Hall\",\"Butler's Wharf Residence\",\"Bankside House\",\"Carr-Saunders Hall\",\"Connaught Hall\",\"High Holborn Residence\",\"urbanest Westminster Bridge\",\"Lilian Knowles House\",\"Passfield Hall\",\"Nutford House\",\"Rosebery Hall\",\"The Garden Halls\",\"Sidney Webb House\"],\"xaxis\":\"x\",\"y\":[22,19,51,27,28,21,11,25,45,23,50,27,25,45],\"yaxis\":\"y\",\"type\":\"bar\"},{\"alignmentgroup\":\"True\",\"hovertemplate\":\"Mode of Transport=By Bike(min)<br>Halls=%{x}<br>Time in Minutes=%{y}<extra></extra>\",\"legendgroup\":\"By Bike(min)\",\"marker\":{\"color\":\"green\",\"pattern\":{\"shape\":\"\"}},\"name\":\"By Bike(min)\",\"offsetgroup\":\"By Bike(min)\",\"orientation\":\"v\",\"showlegend\":true,\"textposition\":\"auto\",\"x\":[\"College Hall\",\"International Hall\",\"Butler's Wharf Residence\",\"Bankside House\",\"Carr-Saunders Hall\",\"Connaught Hall\",\"High Holborn Residence\",\"urbanest Westminster Bridge\",\"Lilian Knowles House\",\"Passfield Hall\",\"Nutford House\",\"Rosebery Hall\",\"The Garden Halls\",\"Sidney Webb House\"],\"xaxis\":\"x\",\"y\":[8,8,22,13,11,8,4,9,19,10,21,12,9,19],\"yaxis\":\"y\",\"type\":\"bar\"},{\"alignmentgroup\":\"True\",\"hovertemplate\":\"Mode of Transport=By Public Transport(min)<br>Halls=%{x}<br>Time in Minutes=%{y}<extra></extra>\",\"legendgroup\":\"By Public Transport(min)\",\"marker\":{\"color\":\"red\",\"pattern\":{\"shape\":\"\"}},\"name\":\"By Public Transport(min)\",\"offsetgroup\":\"By Public Transport(min)\",\"orientation\":\"v\",\"showlegend\":true,\"textposition\":\"auto\",\"x\":[\"College Hall\",\"International Hall\",\"Butler's Wharf Residence\",\"Bankside House\",\"Carr-Saunders Hall\",\"Connaught Hall\",\"High Holborn Residence\",\"urbanest Westminster Bridge\",\"Lilian Knowles House\",\"Passfield Hall\",\"Nutford House\",\"Rosebery Hall\",\"The Garden Halls\",\"Sidney Webb House\"],\"xaxis\":\"x\",\"y\":[16,13,34,24,23,14,10,11,25,15,27,19,16,24],\"yaxis\":\"y\",\"type\":\"bar\"}],                        {\"template\":{\"data\":{\"histogram2dcontour\":[{\"type\":\"histogram2dcontour\",\"colorbar\":{\"outlinewidth\":0,\"ticks\":\"\"},\"colorscale\":[[0.0,\"#0d0887\"],[0.1111111111111111,\"#46039f\"],[0.2222222222222222,\"#7201a8\"],[0.3333333333333333,\"#9c179e\"],[0.4444444444444444,\"#bd3786\"],[0.5555555555555556,\"#d8576b\"],[0.6666666666666666,\"#ed7953\"],[0.7777777777777778,\"#fb9f3a\"],[0.8888888888888888,\"#fdca26\"],[1.0,\"#f0f921\"]]}],\"choropleth\":[{\"type\":\"choropleth\",\"colorbar\":{\"outlinewidth\":0,\"ticks\":\"\"}}],\"histogram2d\":[{\"type\":\"histogram2d\",\"colorbar\":{\"outlinewidth\":0,\"ticks\":\"\"},\"colorscale\":[[0.0,\"#0d0887\"],[0.1111111111111111,\"#46039f\"],[0.2222222222222222,\"#7201a8\"],[0.3333333333333333,\"#9c179e\"],[0.4444444444444444,\"#bd3786\"],[0.5555555555555556,\"#d8576b\"],[0.6666666666666666,\"#ed7953\"],[0.7777777777777778,\"#fb9f3a\"],[0.8888888888888888,\"#fdca26\"],[1.0,\"#f0f921\"]]}],\"heatmap\":[{\"type\":\"heatmap\",\"colorbar\":{\"outlinewidth\":0,\"ticks\":\"\"},\"colorscale\":[[0.0,\"#0d0887\"],[0.1111111111111111,\"#46039f\"],[0.2222222222222222,\"#7201a8\"],[0.3333333333333333,\"#9c179e\"],[0.4444444444444444,\"#bd3786\"],[0.5555555555555556,\"#d8576b\"],[0.6666666666666666,\"#ed7953\"],[0.7777777777777778,\"#fb9f3a\"],[0.8888888888888888,\"#fdca26\"],[1.0,\"#f0f921\"]]}],\"heatmapgl\":[{\"type\":\"heatmapgl\",\"colorbar\":{\"outlinewidth\":0,\"ticks\":\"\"},\"colorscale\":[[0.0,\"#0d0887\"],[0.1111111111111111,\"#46039f\"],[0.2222222222222222,\"#7201a8\"],[0.3333333333333333,\"#9c179e\"],[0.4444444444444444,\"#bd3786\"],[0.5555555555555556,\"#d8576b\"],[0.6666666666666666,\"#ed7953\"],[0.7777777777777778,\"#fb9f3a\"],[0.8888888888888888,\"#fdca26\"],[1.0,\"#f0f921\"]]}],\"contourcarpet\":[{\"type\":\"contourcarpet\",\"colorbar\":{\"outlinewidth\":0,\"ticks\":\"\"}}],\"contour\":[{\"type\":\"contour\",\"colorbar\":{\"outlinewidth\":0,\"ticks\":\"\"},\"colorscale\":[[0.0,\"#0d0887\"],[0.1111111111111111,\"#46039f\"],[0.2222222222222222,\"#7201a8\"],[0.3333333333333333,\"#9c179e\"],[0.4444444444444444,\"#bd3786\"],[0.5555555555555556,\"#d8576b\"],[0.6666666666666666,\"#ed7953\"],[0.7777777777777778,\"#fb9f3a\"],[0.8888888888888888,\"#fdca26\"],[1.0,\"#f0f921\"]]}],\"surface\":[{\"type\":\"surface\",\"colorbar\":{\"outlinewidth\":0,\"ticks\":\"\"},\"colorscale\":[[0.0,\"#0d0887\"],[0.1111111111111111,\"#46039f\"],[0.2222222222222222,\"#7201a8\"],[0.3333333333333333,\"#9c179e\"],[0.4444444444444444,\"#bd3786\"],[0.5555555555555556,\"#d8576b\"],[0.6666666666666666,\"#ed7953\"],[0.7777777777777778,\"#fb9f3a\"],[0.8888888888888888,\"#fdca26\"],[1.0,\"#f0f921\"]]}],\"mesh3d\":[{\"type\":\"mesh3d\",\"colorbar\":{\"outlinewidth\":0,\"ticks\":\"\"}}],\"scatter\":[{\"fillpattern\":{\"fillmode\":\"overlay\",\"size\":10,\"solidity\":0.2},\"type\":\"scatter\"}],\"parcoords\":[{\"type\":\"parcoords\",\"line\":{\"colorbar\":{\"outlinewidth\":0,\"ticks\":\"\"}}}],\"scatterpolargl\":[{\"type\":\"scatterpolargl\",\"marker\":{\"colorbar\":{\"outlinewidth\":0,\"ticks\":\"\"}}}],\"bar\":[{\"error_x\":{\"color\":\"#2a3f5f\"},\"error_y\":{\"color\":\"#2a3f5f\"},\"marker\":{\"line\":{\"color\":\"#E5ECF6\",\"width\":0.5},\"pattern\":{\"fillmode\":\"overlay\",\"size\":10,\"solidity\":0.2}},\"type\":\"bar\"}],\"scattergeo\":[{\"type\":\"scattergeo\",\"marker\":{\"colorbar\":{\"outlinewidth\":0,\"ticks\":\"\"}}}],\"scatterpolar\":[{\"type\":\"scatterpolar\",\"marker\":{\"colorbar\":{\"outlinewidth\":0,\"ticks\":\"\"}}}],\"histogram\":[{\"marker\":{\"pattern\":{\"fillmode\":\"overlay\",\"size\":10,\"solidity\":0.2}},\"type\":\"histogram\"}],\"scattergl\":[{\"type\":\"scattergl\",\"marker\":{\"colorbar\":{\"outlinewidth\":0,\"ticks\":\"\"}}}],\"scatter3d\":[{\"type\":\"scatter3d\",\"line\":{\"colorbar\":{\"outlinewidth\":0,\"ticks\":\"\"}},\"marker\":{\"colorbar\":{\"outlinewidth\":0,\"ticks\":\"\"}}}],\"scattermapbox\":[{\"type\":\"scattermapbox\",\"marker\":{\"colorbar\":{\"outlinewidth\":0,\"ticks\":\"\"}}}],\"scatterternary\":[{\"type\":\"scatterternary\",\"marker\":{\"colorbar\":{\"outlinewidth\":0,\"ticks\":\"\"}}}],\"scattercarpet\":[{\"type\":\"scattercarpet\",\"marker\":{\"colorbar\":{\"outlinewidth\":0,\"ticks\":\"\"}}}],\"carpet\":[{\"aaxis\":{\"endlinecolor\":\"#2a3f5f\",\"gridcolor\":\"white\",\"linecolor\":\"white\",\"minorgridcolor\":\"white\",\"startlinecolor\":\"#2a3f5f\"},\"baxis\":{\"endlinecolor\":\"#2a3f5f\",\"gridcolor\":\"white\",\"linecolor\":\"white\",\"minorgridcolor\":\"white\",\"startlinecolor\":\"#2a3f5f\"},\"type\":\"carpet\"}],\"table\":[{\"cells\":{\"fill\":{\"color\":\"#EBF0F8\"},\"line\":{\"color\":\"white\"}},\"header\":{\"fill\":{\"color\":\"#C8D4E3\"},\"line\":{\"color\":\"white\"}},\"type\":\"table\"}],\"barpolar\":[{\"marker\":{\"line\":{\"color\":\"#E5ECF6\",\"width\":0.5},\"pattern\":{\"fillmode\":\"overlay\",\"size\":10,\"solidity\":0.2}},\"type\":\"barpolar\"}],\"pie\":[{\"automargin\":true,\"type\":\"pie\"}]},\"layout\":{\"autotypenumbers\":\"strict\",\"colorway\":[\"#636efa\",\"#EF553B\",\"#00cc96\",\"#ab63fa\",\"#FFA15A\",\"#19d3f3\",\"#FF6692\",\"#B6E880\",\"#FF97FF\",\"#FECB52\"],\"font\":{\"color\":\"#2a3f5f\"},\"hovermode\":\"closest\",\"hoverlabel\":{\"align\":\"left\"},\"paper_bgcolor\":\"white\",\"plot_bgcolor\":\"#E5ECF6\",\"polar\":{\"bgcolor\":\"#E5ECF6\",\"angularaxis\":{\"gridcolor\":\"white\",\"linecolor\":\"white\",\"ticks\":\"\"},\"radialaxis\":{\"gridcolor\":\"white\",\"linecolor\":\"white\",\"ticks\":\"\"}},\"ternary\":{\"bgcolor\":\"#E5ECF6\",\"aaxis\":{\"gridcolor\":\"white\",\"linecolor\":\"white\",\"ticks\":\"\"},\"baxis\":{\"gridcolor\":\"white\",\"linecolor\":\"white\",\"ticks\":\"\"},\"caxis\":{\"gridcolor\":\"white\",\"linecolor\":\"white\",\"ticks\":\"\"}},\"coloraxis\":{\"colorbar\":{\"outlinewidth\":0,\"ticks\":\"\"}},\"colorscale\":{\"sequential\":[[0.0,\"#0d0887\"],[0.1111111111111111,\"#46039f\"],[0.2222222222222222,\"#7201a8\"],[0.3333333333333333,\"#9c179e\"],[0.4444444444444444,\"#bd3786\"],[0.5555555555555556,\"#d8576b\"],[0.6666666666666666,\"#ed7953\"],[0.7777777777777778,\"#fb9f3a\"],[0.8888888888888888,\"#fdca26\"],[1.0,\"#f0f921\"]],\"sequentialminus\":[[0.0,\"#0d0887\"],[0.1111111111111111,\"#46039f\"],[0.2222222222222222,\"#7201a8\"],[0.3333333333333333,\"#9c179e\"],[0.4444444444444444,\"#bd3786\"],[0.5555555555555556,\"#d8576b\"],[0.6666666666666666,\"#ed7953\"],[0.7777777777777778,\"#fb9f3a\"],[0.8888888888888888,\"#fdca26\"],[1.0,\"#f0f921\"]],\"diverging\":[[0,\"#8e0152\"],[0.1,\"#c51b7d\"],[0.2,\"#de77ae\"],[0.3,\"#f1b6da\"],[0.4,\"#fde0ef\"],[0.5,\"#f7f7f7\"],[0.6,\"#e6f5d0\"],[0.7,\"#b8e186\"],[0.8,\"#7fbc41\"],[0.9,\"#4d9221\"],[1,\"#276419\"]]},\"xaxis\":{\"gridcolor\":\"white\",\"linecolor\":\"white\",\"ticks\":\"\",\"title\":{\"standoff\":15},\"zerolinecolor\":\"white\",\"automargin\":true,\"zerolinewidth\":2},\"yaxis\":{\"gridcolor\":\"white\",\"linecolor\":\"white\",\"ticks\":\"\",\"title\":{\"standoff\":15},\"zerolinecolor\":\"white\",\"automargin\":true,\"zerolinewidth\":2},\"scene\":{\"xaxis\":{\"backgroundcolor\":\"#E5ECF6\",\"gridcolor\":\"white\",\"linecolor\":\"white\",\"showbackground\":true,\"ticks\":\"\",\"zerolinecolor\":\"white\",\"gridwidth\":2},\"yaxis\":{\"backgroundcolor\":\"#E5ECF6\",\"gridcolor\":\"white\",\"linecolor\":\"white\",\"showbackground\":true,\"ticks\":\"\",\"zerolinecolor\":\"white\",\"gridwidth\":2},\"zaxis\":{\"backgroundcolor\":\"#E5ECF6\",\"gridcolor\":\"white\",\"linecolor\":\"white\",\"showbackground\":true,\"ticks\":\"\",\"zerolinecolor\":\"white\",\"gridwidth\":2}},\"shapedefaults\":{\"line\":{\"color\":\"#2a3f5f\"}},\"annotationdefaults\":{\"arrowcolor\":\"#2a3f5f\",\"arrowhead\":0,\"arrowwidth\":1},\"geo\":{\"bgcolor\":\"white\",\"landcolor\":\"#E5ECF6\",\"subunitcolor\":\"white\",\"showland\":true,\"showlakes\":true,\"lakecolor\":\"white\"},\"title\":{\"x\":0.05},\"mapbox\":{\"style\":\"light\"}}},\"xaxis\":{\"anchor\":\"y\",\"domain\":[0.0,1.0],\"title\":{\"text\":\"Accommodation Name\"},\"tickangle\":-45},\"yaxis\":{\"anchor\":\"x\",\"domain\":[0.0,1.0],\"title\":{\"text\":\"Time in Minutes\"}},\"legend\":{\"title\":{\"text\":\"Modes of Transportation\"},\"tracegroupgap\":0},\"title\":{\"text\":\"Travel time to Campus by Foot, Bike, and Public Transport\"},\"barmode\":\"group\"},                        {\"responsive\": true}                    ).then(function(){\n",
       "                            \n",
       "var gd = document.getElementById('d3881ff0-f824-4197-9206-d3ffe30cbefb');\n",
       "var x = new MutationObserver(function (mutations, observer) {{\n",
       "        var display = window.getComputedStyle(gd).display;\n",
       "        if (!display || display === 'none') {{\n",
       "            console.log([gd, 'removed!']);\n",
       "            Plotly.purge(gd);\n",
       "            observer.disconnect();\n",
       "        }}\n",
       "}});\n",
       "\n",
       "// Listen for the removal of the full notebook cells\n",
       "var notebookContainer = gd.closest('#notebook-container');\n",
       "if (notebookContainer) {{\n",
       "    x.observe(notebookContainer, {childList: true});\n",
       "}}\n",
       "\n",
       "// Listen for the clearing of the current output cell\n",
       "var outputEl = gd.closest('.output');\n",
       "if (outputEl) {{\n",
       "    x.observe(outputEl, {childList: true});\n",
       "}}\n",
       "\n",
       "                        })                };                });            </script>        </div>"
      ]
     },
     "metadata": {},
     "output_type": "display_data"
    }
   ],
   "source": [
    "import plotly.express as px\n",
    "\n",
    "\n",
    "plot_data = df[['Name', 'On Foot(min)', 'By Bike(min)', 'By Public Transport(min)']].set_index('Name')\n",
    "\n",
    "\n",
    "custom_colors = ['blue', 'green', 'red'] \n",
    "\n",
    "\n",
    "fig = px.bar(plot_data.reset_index(), x='Name', y=['On Foot(min)', 'By Bike(min)', 'By Public Transport(min)'],\n",
    "             title='Travel time to Campus by Foot, Bike, and Public Transport',\n",
    "             labels={'value': 'Time in Minutes', 'variable': 'Mode of Transport', 'Name': 'Halls'},\n",
    "             barmode='group',\n",
    "             color_discrete_sequence=custom_colors) \n",
    "\n",
    "\n",
    "fig.update_layout(\n",
    "    xaxis_title='Accommodation Name',\n",
    "    yaxis_title='Time in Minutes',\n",
    "    legend_title='Modes of Transportation',\n",
    "    xaxis_tickangle=-45\n",
    ")\n",
    "\n",
    "\n",
    "fig.show()\n"
   ]
  },
  {
   "cell_type": "code",
   "execution_count": 3,
   "id": "2ed9e808",
   "metadata": {},
   "outputs": [
    {
     "data": {
      "image/png": "[encoded data removed]",
      "text/plain": [
       "<Figure size 1000x1200 with 3 Axes>"
      ]
     },
     "metadata": {},
     "output_type": "display_data"
    }
   ],
   "source": [
    "import matplotlib.pyplot as plt\n",
    "\n",
    "\n",
    "plot_data = df[['Name', 'On Foot(min)', 'By Bike(min)', 'By Public Transport(min)']].set_index('Name')\n",
    "\n",
    "\n",
    "fig, axes = plt.subplots(nrows=3, ncols=1, figsize=(10, 12))  \n",
    "\n",
    "\n",
    "plot_data['On Foot(min)'].plot(kind='bar', width=0.8, ax=axes[0], color='b')\n",
    "axes[0].set_title('Travel time to Campus On Foot')\n",
    "axes[0].set_ylabel('Time in Minutes')\n",
    "\n",
    "plot_data['By Bike(min)'].plot(kind='bar', width=0.8, ax=axes[1], color='g')\n",
    "axes[1].set_title('Travel time to Campus by Bike')\n",
    "axes[1].set_ylabel('Time in Minutes')\n",
    "\n",
    "plot_data['By Public Transport(min)'].plot(kind='bar', width=0.8, ax=axes[2], color='r')\n",
    "axes[2].set_title('Travel time to Campus by Public Transport')\n",
    "axes[2].set_ylabel('Time in Minutes')\n",
    "\n",
    "\n",
    "for ax in axes[:-1]:\n",
    "    ax.set_xlabel('')\n",
    "axes[-1].set_xlabel('Accommodation Name')\n",
    "\n",
    "\n",
    "for ax in axes:\n",
    "    ax.tick_params(axis='x', labelrotation=45)\n",
    "\n",
    "plt.tight_layout()\n",
    "plt.show()\n"
   ]
  },
  {
   "cell_type": "code",
   "execution_count": null,
   "id": "26794a6d",
   "metadata": {},
   "outputs": [],
   "source": []
  }
 ],
 "metadata": {
  "kernelspec": {
   "display_name": "Python 3 (ipykernel)",
   "language": "python",
   "name": "python3"
  },
  "language_info": {
   "codemirror_mode": {
    "name": "ipython",
    "version": 3
   },
   "file_extension": ".py",
   "mimetype": "text/x-python",
   "name": "python",
   "nbconvert_exporter": "python",
   "pygments_lexer": "ipython3",
   "version": "3.11.4"
  }
 },
 "nbformat": 4,
 "nbformat_minor": 5
}
