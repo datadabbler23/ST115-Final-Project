{
 "cells": [
  {
   "cell_type": "code",
   "execution_count": 1,
   "id": "ab4292b7",
   "metadata": {},
   "outputs": [],
   "source": [
    "from bs4 import BeautifulSoup\n",
    "import requests\n",
    "import pandas as pd"
   ]
  },
  {
   "cell_type": "code",
   "execution_count": 18,
   "id": "71feb41d",
   "metadata": {},
   "outputs": [
    {
     "name": "stdout",
     "output_type": "stream",
     "text": [
      "Single room\n",
      "Twin room\n",
      "Twin en suite room\n"
     ]
    }
   ],
   "source": [
    "accommodation_info = []\n",
    "url = 'http://www.lse.ac.uk/student-life/accommodation/halls/rosebery-hall/home.aspx'\n",
    "response = requests.get(url)\n",
    "response.raise_for_status()\n",
    "soup = BeautifulSoup(response.text, 'html.parser')\n",
    "room_type = soup.find_all('h2', class_='roomlist__title')\n",
    "bathroom = soup.find_all('p', class_=\"roomlist__position\")\n",
    "for room in room_type:\n",
    "    print(room.text)"
   ]
  },
  {
   "cell_type": "code",
   "execution_count": 19,
   "id": "fe506cd2",
   "metadata": {},
   "outputs": [
    {
     "name": "stdout",
     "output_type": "stream",
     "text": [
      "['http://www.lse.ac.uk/student-life/accommodation/halls/urbanest-westminster-bridge/home.aspx', 'http://www.lse.ac.uk/student-life/accommodation/halls/lilian-knowles-house/home.aspx', 'http://www.lse.ac.uk/student-life/accommodation/halls/college-hall/home.aspx', 'http://www.lse.ac.uk/student-life/accommodation/halls/international-hall/home.aspx', 'http://www.lse.ac.uk/student-life/accommodation/halls/butlers-wharf-residence/home.aspx', 'http://www.lse.ac.uk/student-life/accommodation/halls/bankside-house/home.aspx', 'http://www.lse.ac.uk/student-life/accommodation/halls/carr-saunders-hall/home.aspx', 'http://www.lse.ac.uk/student-life/accommodation/halls/connaught-hall/home.aspx', 'http://www.lse.ac.uk/student-life/accommodation/halls/high-holborn-residence/home.aspx', 'http://www.lse.ac.uk/student-life/accommodation/halls/passfield-hall/home.aspx', 'http://www.lse.ac.uk/student-life/accommodation/halls/nutford-house/home.aspx', 'http://www.lse.ac.uk/student-life/accommodation/halls/rosebery-hall/home.aspx', 'http://www.lse.ac.uk/student-life/accommodation/halls/the-garden-halls/home.aspx', 'http://www.lse.ac.uk/student-life/accommodation/halls/sidney-webb-house/home.aspx']\n"
     ]
    }
   ],
   "source": [
    "from bs4 import BeautifulSoup\n",
    "import requests\n",
    "import pandas as pd\n",
    "\n",
    "all_hyperlinks = []\n",
    "\n",
    "for page_num in range(1, 3):  #this way it goes thru both pages without having two diff links\n",
    "    url = f\"https://www.lse.ac.uk/student-life/accommodation/search-accommodation?collection=lse-accommodation&pageIndex={page_num}&sort=metaavailability\"\n",
    "    try:\n",
    "        response = requests.get(url)\n",
    "        response.raise_for_status()\n",
    "        soup = BeautifulSoup(response.text, 'html.parser')\n",
    "        accommodation_titles = soup.find_all('h2', class_='card__title')\n",
    "        hyperlinks = []\n",
    "        for title in accommodation_titles:\n",
    "            hyperlink = title.find('a')['href']\n",
    "            hyperlinks.append(hyperlink)\n",
    "        all_hyperlinks.extend(hyperlinks)\n",
    "\n",
    "    except Exception as e:\n",
    "        print(\"An error occurred:\", e)\n",
    "\n",
    "print(all_hyperlinks)"
   ]
  },
  {
   "cell_type": "code",
   "execution_count": 23,
   "id": "9ff995f9",
   "metadata": {},
   "outputs": [
    {
     "name": "stdout",
     "output_type": "stream",
     "text": [
      "Hyperlink: http://www.lse.ac.uk/student-life/accommodation/halls/urbanest-westminster-bridge/home.aspx\n",
      "Accomodation Name: ['Single room', 'Single en suite room', 'Twin en suite room', 'Single studio']\n",
      "Hyperlink: http://www.lse.ac.uk/student-life/accommodation/halls/lilian-knowles-house/home.aspx\n",
      "Accomodation Name: ['Single en suite room', 'Single studio', 'One-bed flat']\n",
      "Hyperlink: http://www.lse.ac.uk/student-life/accommodation/halls/college-hall/home.aspx\n",
      "Accomodation Name: ['Single room ', 'Single en suite room ', 'Double en suite room ']\n",
      "Hyperlink: http://www.lse.ac.uk/student-life/accommodation/halls/international-hall/home.aspx\n",
      "Accomodation Name: ['Single room', 'Single studio', 'Double studio']\n",
      "Hyperlink: http://www.lse.ac.uk/student-life/accommodation/halls/butlers-wharf-residence/home.aspx\n",
      "Accomodation Name: ['Single room', 'Twin room', 'Double room']\n",
      "Hyperlink: http://www.lse.ac.uk/student-life/accommodation/halls/bankside-house/home.aspx\n",
      "Accomodation Name: ['Single room', 'Single en suite room', 'Twin en suite']\n",
      "Hyperlink: http://www.lse.ac.uk/student-life/accommodation/halls/carr-saunders-hall/home.aspx\n",
      "Accomodation Name: ['Single room', 'Single with queen bed', 'Twin room', 'Twin en suite room']\n",
      "Hyperlink: http://www.lse.ac.uk/student-life/accommodation/halls/connaught-hall/home.aspx\n",
      "Accomodation Name: ['Single room']\n",
      "Hyperlink: http://www.lse.ac.uk/student-life/accommodation/halls/high-holborn-residence/home.aspx\n",
      "Accomodation Name: ['Single room', 'Single room with queen bed', 'Single en suite room', 'Twin en suite room']\n",
      "Hyperlink: http://www.lse.ac.uk/student-life/accommodation/halls/passfield-hall/home.aspx\n",
      "Accomodation Name: ['Single room', 'Single en suite room', 'Twin room', 'Twin en suite room', 'Triple room']\n",
      "Hyperlink: http://www.lse.ac.uk/student-life/accommodation/halls/nutford-house/home.aspx\n",
      "Accomodation Name: ['Single room', 'Twin room']\n",
      "Hyperlink: http://www.lse.ac.uk/student-life/accommodation/halls/rosebery-hall/home.aspx\n",
      "Accomodation Name: ['Single room', 'Twin room', 'Twin en suite room']\n",
      "Hyperlink: http://www.lse.ac.uk/student-life/accommodation/halls/the-garden-halls/home.aspx\n",
      "Accomodation Name: ['Single room ', 'Single en suite room', 'Single en suite room ', 'Single en suite room (Townhouse)']\n",
      "Hyperlink: http://www.lse.ac.uk/student-life/accommodation/halls/sidney-webb-house/home.aspx\n",
      "Accomodation Name: ['Single en suite room', '3 bedroom flat', 'Double en suite room', 'Double studio', 'Queen studio']\n"
     ]
    }
   ],
   "source": [
    "accommodation_info = []\n",
    "for hyperlink in all_hyperlinks:  \n",
    "\n",
    "        response = requests.get(hyperlink)\n",
    "        response.raise_for_status()\n",
    "        soup = BeautifulSoup(response.text, 'html.parser')\n",
    "        room_type = soup.find_all('h2', class_='roomlist__title')\n",
    "        room_texts = [room.text for room in room_type]\n",
    "        accommodation_info.append({\n",
    "            'hyperlink': hyperlink,\n",
    "            'accomodation_title': room_texts\n",
    "\n",
    "        })\n",
    "for info in accommodation_info:\n",
    "    print(\"Hyperlink:\", info['hyperlink'])\n",
    "    print(\"Accomodation Name:\", info['accomodation_title'])"
   ]
  }
 ],
 "metadata": {
  "kernelspec": {
   "display_name": "Python 3 (ipykernel)",
   "language": "python",
   "name": "python3"
  },
  "language_info": {
   "codemirror_mode": {
    "name": "ipython",
    "version": 3
   },
   "file_extension": ".py",
   "mimetype": "text/x-python",
   "name": "python",
   "nbconvert_exporter": "python",
   "pygments_lexer": "ipython3",
   "version": "3.11.5"
  }
 },
 "nbformat": 4,
 "nbformat_minor": 5
}
