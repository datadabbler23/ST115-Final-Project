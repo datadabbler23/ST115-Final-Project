{
 "cells": [
  {
   "cell_type": "markdown",
   "id": "ad5740aa",
   "metadata": {},
   "source": [
    "## Analysis on Rental Price, Location and Facilities of LSE Accommodation Halls"
   ]
  },
  {
   "cell_type": "markdown",
   "id": "8d4adbb3",
   "metadata": {},
   "source": [
    "## 1. Introduction"
   ]
  },
  {
   "cell_type": "markdown",
   "id": "16d6297a-c1ed-44ec-904f-53e892e5f2fb",
   "metadata": {},
   "source": [
    "We are General Course students studying abroad at LSE, and being from different countries, most of us choose to live in a LSE accommodation hall during our stay in London. We recognize the need to streamline the accommodation searching process as it can be confusing. Those who have decided to pursue student accommodation instead of finding their own place have made, one, of the many choices to come as there are a plethora of options. The halls are not solely affiliated with LSE and are not located on campus but rather spread all across central London. Each hall is also unique in their location, facilities, catering system, and price; it can be challenging to match a hall to suit one’s needs.  \n",
    "Most new students resort to spreadsheets when trying to make horizontal comparisons between halls or opening millions of tabs until they have confused themselves over and over again. We are hoping to simplify this process so accommodation searching can be more time efficient and better suited for the incoming students. The current “Refine” bar searching system on the LSE Accommodation website gives some insight on the halls, but is not very effective or detailed without opening separate links for each hall.  \n",
    "Our originality lies in deconstructing the original website to extract information and data for every LSE hall, and presenting information to students in a more effective way through visualization. We hope to solve the problems caused by the original design of the website that is not convenient enough, and let our project act as a supplementary tool for students choosing where to live. We will also evaluate each hall's worth and how the price of one might differ from another based on their locations and facilities that are being offered. From the motivation, here are the questions we are looking to explore.\n",
    "\n",
    "Which is the hall that is best suited for my needs?  \n",
    "1. What is the relationship between the prices of each hall and their distance to campus?\n",
    "2. How do prices vary across different room types in each hall? Is the price worth what the hall provides in their facilities and catering system? \n",
    "3. What are other possible factors that might affect prices? "
   ]
  },
  {
   "cell_type": "markdown",
   "id": "d7ae12ed",
   "metadata": {},
   "source": [
    "## 2. Data Acquisition"
   ]
  },
  {
   "cell_type": "markdown",
   "id": "b1f4b1d6",
   "metadata": {},
   "source": [
    "To tackle our questions, we will need to pull information from the halls’ individual sites off the LSE Accommodation webpage. We can create multiple dataframes that address the prices, room types, facilities, distance and time it takes to reach campus, nearest tube station etc. Here are the following steps we took:"
   ]
  },
  {
   "cell_type": "markdown",
   "id": "f079a3a1",
   "metadata": {},
   "source": [
    "1. Extract the url of each hall from the LSE Accommodation search page  \n",
    "We first pulled each hall's hyperlink from the LSE Accommodation search page (https://www.lse.ac.uk/student-life/accommodation/search-accommodation) and sorted it into a list to make scraping from individual sites with more detailed key facts easier."
   ]
  },
  {
   "cell_type": "code",
   "execution_count": 2,
   "id": "38a99052",
   "metadata": {},
   "outputs": [
    {
     "name": "stdout",
     "output_type": "stream",
     "text": [
      "['http://www.lse.ac.uk/student-life/accommodation/halls/urbanest-westminster-bridge/home.aspx', 'http://www.lse.ac.uk/student-life/accommodation/halls/lilian-knowles-house/home.aspx', 'http://www.lse.ac.uk/student-life/accommodation/halls/college-hall/home.aspx', 'http://www.lse.ac.uk/student-life/accommodation/halls/international-hall/home.aspx', 'http://www.lse.ac.uk/student-life/accommodation/halls/butlers-wharf-residence/home.aspx', 'http://www.lse.ac.uk/student-life/accommodation/halls/bankside-house/home.aspx', 'http://www.lse.ac.uk/student-life/accommodation/halls/carr-saunders-hall/home.aspx', 'http://www.lse.ac.uk/student-life/accommodation/halls/connaught-hall/home.aspx', 'http://www.lse.ac.uk/student-life/accommodation/halls/high-holborn-residence/home.aspx', 'http://www.lse.ac.uk/student-life/accommodation/halls/passfield-hall/home.aspx', 'http://www.lse.ac.uk/student-life/accommodation/halls/nutford-house/home.aspx', 'http://www.lse.ac.uk/student-life/accommodation/halls/rosebery-hall/home.aspx', 'http://www.lse.ac.uk/student-life/accommodation/halls/the-garden-halls/home.aspx', 'http://www.lse.ac.uk/student-life/accommodation/halls/sidney-webb-house/home.aspx']\n"
     ]
    }
   ],
   "source": [
    "from bs4 import BeautifulSoup\n",
    "import requests\n",
    "\n",
    "all_hyperlinks = []\n",
    "\n",
    "for page_num in range(1, 3):\n",
    "    url = f\"https://www.lse.ac.uk/student-life/accommodation/search-accommodation?collection=lse-accommodation&pageIndex={page_num}&sort=metaavailability\"\n",
    "    try:\n",
    "        response = requests.get(url)\n",
    "        response.raise_for_status()\n",
    "        soup = BeautifulSoup(response.text, 'html.parser')\n",
    "        accommodation_titles = soup.find_all('h2', class_='card__title')\n",
    "        hyperlinks = []\n",
    "        for title in accommodation_titles:\n",
    "            hyperlink = title.find('a')['href']\n",
    "            hyperlinks.append(hyperlink)\n",
    "        all_hyperlinks.extend(hyperlinks)\n",
    "\n",
    "    except Exception as e:\n",
    "        print(\"An error occurred:\", e)\n",
    "\n",
    "print(all_hyperlinks)"
   ]
  },
  {
   "cell_type": "markdown",
   "id": "7c64155c",
   "metadata": {},
   "source": [
    "2. From each hyperlink, scrape information from individual webpages and combine into dataframes  \n",
    "The information on the individual webpages are placed all across the page, so 3 different dataframes are created for different spaces."
   ]
  },
  {
   "cell_type": "code",
   "execution_count": null,
   "id": "62bc3d55",
   "metadata": {},
   "outputs": [],
   "source": []
  },
  {
   "cell_type": "code",
   "execution_count": null,
   "id": "bf00a69e",
   "metadata": {},
   "outputs": [],
   "source": []
  },
  {
   "cell_type": "code",
   "execution_count": null,
   "id": "380c931f",
   "metadata": {},
   "outputs": [],
   "source": []
  },
  {
   "cell_type": "code",
   "execution_count": null,
   "id": "0e2c67ce",
   "metadata": {},
   "outputs": [],
   "source": []
  },
  {
   "cell_type": "code",
   "execution_count": null,
   "id": "8e6d2e00",
   "metadata": {},
   "outputs": [],
   "source": []
  },
  {
   "cell_type": "markdown",
   "id": "2737cb76",
   "metadata": {},
   "source": [
    "## 3. Data Preparation"
   ]
  },
  {
   "cell_type": "code",
   "execution_count": null,
   "id": "9cbf13c2",
   "metadata": {},
   "outputs": [],
   "source": []
  },
  {
   "cell_type": "code",
   "execution_count": null,
   "id": "87691429",
   "metadata": {},
   "outputs": [],
   "source": []
  },
  {
   "cell_type": "code",
   "execution_count": null,
   "id": "c958f155",
   "metadata": {},
   "outputs": [],
   "source": []
  },
  {
   "cell_type": "code",
   "execution_count": null,
   "id": "2b76395d",
   "metadata": {},
   "outputs": [],
   "source": []
  },
  {
   "cell_type": "code",
   "execution_count": null,
   "id": "004a7b56",
   "metadata": {},
   "outputs": [],
   "source": []
  },
  {
   "cell_type": "markdown",
   "id": "3a548637",
   "metadata": {},
   "source": [
    "## 4. Data Analysis"
   ]
  },
  {
   "cell_type": "markdown",
   "id": "8d08ce3d",
   "metadata": {},
   "source": [
    "### 4.1 Exploratory Data Analysis (EDA)"
   ]
  },
  {
   "cell_type": "code",
   "execution_count": null,
   "id": "63fb75ba",
   "metadata": {},
   "outputs": [],
   "source": []
  },
  {
   "cell_type": "code",
   "execution_count": null,
   "id": "dee876a3",
   "metadata": {},
   "outputs": [],
   "source": []
  },
  {
   "cell_type": "markdown",
   "id": "bde8542f",
   "metadata": {},
   "source": [
    "## 5. Conclusion"
   ]
  },
  {
   "cell_type": "code",
   "execution_count": null,
   "id": "97d40632",
   "metadata": {},
   "outputs": [],
   "source": []
  },
  {
   "cell_type": "code",
   "execution_count": null,
   "id": "c3ac12c8",
   "metadata": {},
   "outputs": [],
   "source": []
  },
  {
   "cell_type": "code",
   "execution_count": null,
   "id": "32b85984",
   "metadata": {},
   "outputs": [],
   "source": []
  },
  {
   "cell_type": "code",
   "execution_count": null,
   "id": "20ca849c",
   "metadata": {},
   "outputs": [],
   "source": []
  },
  {
   "cell_type": "markdown",
   "id": "4dde4ef6",
   "metadata": {},
   "source": [
    "## 6. Reference"
   ]
  },
  {
   "cell_type": "markdown",
   "id": "c69e1667",
   "metadata": {},
   "source": [
    "LSE Accommodation Website: https://www.lse.ac.uk/student-life/accommodation/search-accommodation"
   ]
  },
  {
   "cell_type": "code",
   "execution_count": null,
   "id": "57ee370e",
   "metadata": {},
   "outputs": [],
   "source": []
  },
  {
   "cell_type": "code",
   "execution_count": null,
   "id": "ac766b3e",
   "metadata": {},
   "outputs": [],
   "source": []
  }
 ],
 "metadata": {
  "kernelspec": {
   "display_name": "Python 3 (ipykernel)",
   "language": "python",
   "name": "python3"
  },
  "language_info": {
   "codemirror_mode": {
    "name": "ipython",
    "version": 3
   },
   "file_extension": ".py",
   "mimetype": "text/x-python",
   "name": "python",
   "nbconvert_exporter": "python",
   "pygments_lexer": "ipython3",
   "version": "3.11.5"
  },
  "toc": {
   "base_numbering": 1,
   "nav_menu": {
    "height": "76px",
    "width": "239px"
   },
   "number_sections": true,
   "sideBar": true,
   "skip_h1_title": false,
   "title_cell": "Table of Contents",
   "title_sidebar": "Contents",
   "toc_cell": false,
   "toc_position": {
    "height": "calc(100% - 180px)",
    "left": "10px",
    "top": "150px",
    "width": "165px"
   },
   "toc_section_display": true,
   "toc_window_display": false
  }
 },
 "nbformat": 4,
 "nbformat_minor": 5
}
